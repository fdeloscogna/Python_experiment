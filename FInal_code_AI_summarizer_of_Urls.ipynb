{
  "nbformat": 4,
  "nbformat_minor": 0,
  "metadata": {
    "colab": {
      "provenance": [],
      "authorship_tag": "ABX9TyOXaWkpCjzaP9/3PjEdg44M",
      "include_colab_link": true
    },
    "kernelspec": {
      "name": "python3",
      "display_name": "Python 3"
    },
    "language_info": {
      "name": "python"
    }
  },
  "cells": [
    {
      "cell_type": "markdown",
      "metadata": {
        "id": "view-in-github",
        "colab_type": "text"
      },
      "source": [
        "<a href=\"https://colab.research.google.com/github/fdeloscogna/Python_experiment/blob/main/FInal_code_AI_summarizer_of_Urls.ipynb\" target=\"_parent\"><img src=\"https://colab.research.google.com/assets/colab-badge.svg\" alt=\"Open In Colab\"/></a>"
      ]
    },
    {
      "cell_type": "code",
      "source": [
        "!pip install cohere"
      ],
      "metadata": {
        "id": "sx5BtghrTDeh"
      },
      "execution_count": null,
      "outputs": []
    },
    {
      "cell_type": "code",
      "source": [
        "import cohere\n",
        "co = cohere.Client('Z56Vg7XNy4CI4Pjsriddm4CXyQJjPMcwwZ5mA0c2')"
      ],
      "metadata": {
        "id": "zCDBnBD_TKb8"
      },
      "execution_count": 4,
      "outputs": []
    },
    {
      "cell_type": "code",
      "source": [
        "# Example URLs\n",
        "url1 = 'https://www.businessinsider.com/ai-models-can-learn-deceptive-behaviors-anthropic-researchers-say-2024-1'\n",
        "url2 = 'https://www.businessinsider.com/nvidia-chips-lamini-ai-amd-jensen-huang-sharon-zhou-2024-4'"
      ],
      "metadata": {
        "id": "R-TRdTdWV2aa"
      },
      "execution_count": null,
      "outputs": []
    },
    {
      "cell_type": "code",
      "source": [
        "import requests\n",
        "from bs4 import BeautifulSoup\n",
        "\n",
        "def extract_text_from_url(url, max_text_length):\n",
        "    # Send a GET request to the URL\n",
        "    response = requests.get(url)\n",
        "\n",
        "    # Parse the HTML content of the page using BeautifulSoup\n",
        "    soup = BeautifulSoup(response.content, 'html.parser')\n",
        "\n",
        "    # Find all text elements (like paragraphs)\n",
        "    text_elements = soup.find_all(text=True)\n",
        "\n",
        "    # Combine all text elements into a single string\n",
        "    text = ' '.join(element.strip() for element in text_elements if element.strip())\n",
        "\n",
        "    # Truncate text if it exceeds the maximum allowed length\n",
        "    if len(text) > max_text_length:\n",
        "        text = text[:max_text_length]\n",
        "\n",
        "    return text\n",
        "\n",
        "\n",
        "# Maximum allowed text length for each URL\n",
        "max_text_length = 450\n",
        "\n",
        "# Extract text from the first URL\n",
        "text1 = extract_text_from_url(url1, max_text_length)\n",
        "\n",
        "# Extract text from the second URL\n",
        "text2 = extract_text_from_url(url2, max_text_length)\n",
        "\n",
        "# Summarize text from the first URL\n",
        "response1 = co.summarize(\n",
        "    text=text1,\n",
        "    model='command',\n",
        "    length='medium',\n",
        "    extractiveness='medium'\n",
        ")\n",
        "summary1 = response1.summary\n",
        "\n",
        "# Summarize text from the second URL\n",
        "response2 = co.summarize(\n",
        "    text=text2,\n",
        "    model='command',\n",
        "    length='medium',\n",
        "    extractiveness='medium'\n",
        ")\n",
        "summary2 = response2.summary"
      ],
      "metadata": {
        "colab": {
          "base_uri": "https://localhost:8080/"
        },
        "id": "orBJSlDvVPfi",
        "outputId": "fe84393d-c686-4010-f9b0-fb880ab434fa"
      },
      "execution_count": 16,
      "outputs": [
        {
          "output_type": "stream",
          "name": "stderr",
          "text": [
            "<ipython-input-16-f8825b114151>:12: DeprecationWarning: The 'text' argument to find()-type methods is deprecated. Use 'string' instead.\n",
            "  text_elements = soup.find_all(text=True)\n"
          ]
        }
      ]
    },
    {
      "cell_type": "code",
      "source": [
        "# Now summary1 contains the summary of text from the first URL,\n",
        "# and summary2 contains the summary of text from the second URL.\n",
        "\n",
        "print(\"Summary of Text from URL 1:\")\n",
        "print(summary1)\n",
        "\n",
        "print(\"\\nSummary of Text from URL 2:\")\n",
        "print(summary2)\n"
      ],
      "metadata": {
        "colab": {
          "base_uri": "https://localhost:8080/"
        },
        "id": "OLr1lGREVvDr",
        "outputId": "405dd364-11f5-4b71-8533-ce4e290f2d35"
      },
      "execution_count": 17,
      "outputs": [
        {
          "output_type": "stream",
          "name": "stdout",
          "text": [
            "Summary of Text from URL 1:\n",
            "AI-generated text, such as that used by ChatGPT, has the potential to be used deceptively, according to researchers at Anthropic, a company that provides AI to other businesses. They gave the example of an AI learning to mimic a company's press releases, making subtle changes that help make the company look good, or mimicking job candidates' answers to make them more appealing. The company has called for more research in this area, as well as regulations, to prevent potential misuse.\n",
            "\n",
            "Summary of Text from URL 2:\n",
            "AI startup Fenrir has just launched an AI tool without using Nvidia chips, which are commonly used in AI applications. Instead, the company has opted to use IP from Intel's recent acquisition of Habana Labs for its new product, the Fenrir AI Factory. This is a platform for creating custom AI models which is aimed at enterprise customers who want to build AI infrastructure. \n",
            "Fenrir has secured $50m in funding so far, with investors including Intel Capital and venture capital firm Addition.\n"
          ]
        }
      ]
    },
    {
      "cell_type": "code",
      "source": [
        "import requests\n",
        "from bs4 import BeautifulSoup\n",
        "\n",
        "def extract_text_from_url(url, max_text_length):\n",
        "    # Send a GET request to the URL\n",
        "    response = requests.get(url)\n",
        "\n",
        "    # Parse the HTML content of the page using BeautifulSoup\n",
        "    soup = BeautifulSoup(response.content, 'html.parser')\n",
        "\n",
        "    # Find all text elements (like paragraphs)\n",
        "    text_elements = soup.find_all(text=True)\n",
        "\n",
        "    # Combine all text elements into a single string\n",
        "    text = ' '.join(element.strip() for element in text_elements if element.strip())\n",
        "\n",
        "    # Truncate text if it exceeds the maximum allowed length\n",
        "    if len(text) > max_text_length:\n",
        "        text = text[:max_text_length]\n",
        "\n",
        "    return text\n",
        "\n",
        "# Example URLs\n",
        "urls = [\n",
        "    'https://edition.cnn.com/2007/SHOWBIZ/Movies/07/23/potter.radcliffe.reut/index.html',\n",
        "    'https://www.businessinsider.com/nvidia-chips-lamini-ai-amd-jensen-huang-sharon-zhou-2024-4',\n",
        "    'https://www.businessinsider.com/ai-models-can-learn-deceptive-behaviors-anthropic-researchers-say-2024-1'\n",
        "\n",
        "]\n",
        "\n",
        "# Maximum allowed text length for each URL\n",
        "max_text_length = 300\n",
        "\n",
        "# Dictionary to store summaries\n",
        "summaries = {}\n",
        "\n",
        "# Extract text and summarize each URL\n",
        "for url in urls:\n",
        "    text = extract_text_from_url(url, max_text_length)\n",
        "    response = co.summarize(\n",
        "        text=text,\n",
        "        model='command',\n",
        "        length='medium',\n",
        "        extractiveness='medium'\n",
        "    )\n",
        "    summary = response.summary\n",
        "    summaries[url] = summary\n",
        "\n",
        "# Print the summaries\n",
        "print(summaries)\n"
      ],
      "metadata": {
        "colab": {
          "base_uri": "https://localhost:8080/",
          "height": 401
        },
        "id": "ETMRXOBXWKjs",
        "outputId": "d1c27e9f-da6f-44e9-9f10-2b004ca71ebc"
      },
      "execution_count": 15,
      "outputs": [
        {
          "output_type": "stream",
          "name": "stderr",
          "text": [
            "<ipython-input-15-03b4f4bd8eea>:12: DeprecationWarning: The 'text' argument to find()-type methods is deprecated. Use 'string' instead.\n",
            "  text_elements = soup.find_all(text=True)\n"
          ]
        },
        {
          "output_type": "error",
          "ename": "TooManyRequestsError",
          "evalue": "status_code: 429, body: {'message': \"You are using a Trial key, which is limited to 5 API calls / minute. You can continue to use the Trial key for free or upgrade to a Production key with higher rate limits at 'https://dashboard.cohere.com/api-keys'. Contact us on 'https://discord.gg/XW44jPfYJu' or email us at support@cohere.com with any questions\"}",
          "traceback": [
            "\u001b[0;31m---------------------------------------------------------------------------\u001b[0m",
            "\u001b[0;31mTooManyRequestsError\u001b[0m                      Traceback (most recent call last)",
            "\u001b[0;32m<ipython-input-15-03b4f4bd8eea>\u001b[0m in \u001b[0;36m<cell line: 38>\u001b[0;34m()\u001b[0m\n\u001b[1;32m     38\u001b[0m \u001b[0;32mfor\u001b[0m \u001b[0murl\u001b[0m \u001b[0;32min\u001b[0m \u001b[0murls\u001b[0m\u001b[0;34m:\u001b[0m\u001b[0;34m\u001b[0m\u001b[0;34m\u001b[0m\u001b[0m\n\u001b[1;32m     39\u001b[0m     \u001b[0mtext\u001b[0m \u001b[0;34m=\u001b[0m \u001b[0mextract_text_from_url\u001b[0m\u001b[0;34m(\u001b[0m\u001b[0murl\u001b[0m\u001b[0;34m,\u001b[0m \u001b[0mmax_text_length\u001b[0m\u001b[0;34m)\u001b[0m\u001b[0;34m\u001b[0m\u001b[0;34m\u001b[0m\u001b[0m\n\u001b[0;32m---> 40\u001b[0;31m     response = co.summarize(\n\u001b[0m\u001b[1;32m     41\u001b[0m         \u001b[0mtext\u001b[0m\u001b[0;34m=\u001b[0m\u001b[0mtext\u001b[0m\u001b[0;34m,\u001b[0m\u001b[0;34m\u001b[0m\u001b[0;34m\u001b[0m\u001b[0m\n\u001b[1;32m     42\u001b[0m         \u001b[0mmodel\u001b[0m\u001b[0;34m=\u001b[0m\u001b[0;34m'command'\u001b[0m\u001b[0;34m,\u001b[0m\u001b[0;34m\u001b[0m\u001b[0;34m\u001b[0m\u001b[0m\n",
            "\u001b[0;32m/usr/local/lib/python3.10/dist-packages/cohere/base_client.py\u001b[0m in \u001b[0;36msummarize\u001b[0;34m(self, text, length, format, model, extractiveness, temperature, additional_command, request_options)\u001b[0m\n\u001b[1;32m   1484\u001b[0m             \u001b[0;32mreturn\u001b[0m \u001b[0mtyping\u001b[0m\u001b[0;34m.\u001b[0m\u001b[0mcast\u001b[0m\u001b[0;34m(\u001b[0m\u001b[0mSummarizeResponse\u001b[0m\u001b[0;34m,\u001b[0m \u001b[0mconstruct_type\u001b[0m\u001b[0;34m(\u001b[0m\u001b[0mtype_\u001b[0m\u001b[0;34m=\u001b[0m\u001b[0mSummarizeResponse\u001b[0m\u001b[0;34m,\u001b[0m \u001b[0mobject_\u001b[0m\u001b[0;34m=\u001b[0m\u001b[0m_response\u001b[0m\u001b[0;34m.\u001b[0m\u001b[0mjson\u001b[0m\u001b[0;34m(\u001b[0m\u001b[0;34m)\u001b[0m\u001b[0;34m)\u001b[0m\u001b[0;34m)\u001b[0m  \u001b[0;31m# type: ignore\u001b[0m\u001b[0;34m\u001b[0m\u001b[0;34m\u001b[0m\u001b[0m\n\u001b[1;32m   1485\u001b[0m         \u001b[0;32mif\u001b[0m \u001b[0m_response\u001b[0m\u001b[0;34m.\u001b[0m\u001b[0mstatus_code\u001b[0m \u001b[0;34m==\u001b[0m \u001b[0;36m429\u001b[0m\u001b[0;34m:\u001b[0m\u001b[0;34m\u001b[0m\u001b[0;34m\u001b[0m\u001b[0m\n\u001b[0;32m-> 1486\u001b[0;31m             raise TooManyRequestsError(\n\u001b[0m\u001b[1;32m   1487\u001b[0m                 \u001b[0mtyping\u001b[0m\u001b[0;34m.\u001b[0m\u001b[0mcast\u001b[0m\u001b[0;34m(\u001b[0m\u001b[0mtyping\u001b[0m\u001b[0;34m.\u001b[0m\u001b[0mAny\u001b[0m\u001b[0;34m,\u001b[0m \u001b[0mconstruct_type\u001b[0m\u001b[0;34m(\u001b[0m\u001b[0mtype_\u001b[0m\u001b[0;34m=\u001b[0m\u001b[0mtyping\u001b[0m\u001b[0;34m.\u001b[0m\u001b[0mAny\u001b[0m\u001b[0;34m,\u001b[0m \u001b[0mobject_\u001b[0m\u001b[0;34m=\u001b[0m\u001b[0m_response\u001b[0m\u001b[0;34m.\u001b[0m\u001b[0mjson\u001b[0m\u001b[0;34m(\u001b[0m\u001b[0;34m)\u001b[0m\u001b[0;34m)\u001b[0m\u001b[0;34m)\u001b[0m  \u001b[0;31m# type: ignore\u001b[0m\u001b[0;34m\u001b[0m\u001b[0;34m\u001b[0m\u001b[0m\n\u001b[1;32m   1488\u001b[0m             )\n",
            "\u001b[0;31mTooManyRequestsError\u001b[0m: status_code: 429, body: {'message': \"You are using a Trial key, which is limited to 5 API calls / minute. You can continue to use the Trial key for free or upgrade to a Production key with higher rate limits at 'https://dashboard.cohere.com/api-keys'. Contact us on 'https://discord.gg/XW44jPfYJu' or email us at support@cohere.com with any questions\"}"
          ]
        }
      ]
    }
  ]
}